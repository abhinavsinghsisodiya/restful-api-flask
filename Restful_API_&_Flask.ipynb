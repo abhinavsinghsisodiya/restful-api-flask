{
  "nbformat": 4,
  "nbformat_minor": 0,
  "metadata": {
    "colab": {
      "provenance": []
    },
    "kernelspec": {
      "name": "python3",
      "display_name": "Python 3"
    },
    "language_info": {
      "name": "python"
    }
  },
  "cells": [
    {
      "cell_type": "markdown",
      "source": [
        "# Restful API & Flask\n"
      ],
      "metadata": {
        "id": "eT2c5MPLDAy-"
      }
    },
    {
      "cell_type": "code",
      "execution_count": null,
      "metadata": {
        "id": "-LSqqVH7A8vL"
      },
      "outputs": [],
      "source": []
    },
    {
      "cell_type": "markdown",
      "source": [],
      "metadata": {
        "id": "2uk6-wlfC9zt"
      }
    },
    {
      "cell_type": "markdown",
      "source": [
        "1.  What is a RESTful API4\n",
        " -; A RESTful API is a type of application programming interface (API) that follows the REST (Representational State Transfer) architectural style. It uses HTTP requests to access and use data, employing standard methods like GET, PUT, POST, and DELETE to interact with resources. RESTful APIs are designed for flexibility, efficiency, and scalability, making them popular for web services and mobile app development.\n",
        "\n",
        "\n",
        " 2.  Explain the concept of API specification\n",
        "  -; An API specification is a formal document that outlines the elements of an API, acting as a blueprint for its design and development. It details the API's behavior, including its operations, endpoints, input/output for each call, and the data models it uses. Essentially, it defines how an API should behave and interact with other systems.\n",
        "\n",
        "\n",
        "  3.What is Flask, and why is it popular for building APIs4\n",
        "   _;Flask makes building REST APIs easy, handling requests like GET, POST, PUT and DELETE. With Flask-RESTful or simple routes, you can send and receive JSON data, manage authentication and secure your API\n",
        "   Flask is a lightweight Python microframework ideal for building web applications, including REST APIs. It's known for its simplicity, flexibility, and minimal dependencies, making it easy to create and customize web services. This flexibility and ease of use contribute to its popularity for API development.\n",
        "\n",
        "\n",
        "   4,  What is routing in Flask4\n",
        "    -;In Flask, routing is the mechanism that maps specific URLs (Uniform Resource Locators) to corresponding Python functions. When a client (e.g., a web browser) sends a request to a Flask application, the routing system determines which function should handle that request based on the URL path. This allows for the creation of different pages or functionalities within a web application, each accessible through its own unique URL.\n",
        "Routing in Flask is primarily achieved using the @app.route() decorator. This decorator is applied to a function, associating it with a specific URL path. When a request is made to that path, Flask executes the decorated function and returns its output as the response.\n",
        "\n",
        "\n",
        "\n",
        "5.  How do you create a simple Flask application4\n",
        " _;Set up the environment:\n",
        "Install Python if it's not already installed.\n",
        "Create a virtual environment (recommended):\n",
        "Code\n",
        "\n",
        "    python -m venv venv\n",
        "    source venv/bin/activate # On Linux or macOS\n",
        "    venv\\Scripts\\activate # On Windows\n",
        "install flask.\n",
        "Code\n",
        "\n",
        "    pip install Flask\n",
        "Create the Flask app:\n",
        "Create a Python file, for example, app.py.\n",
        "Add the following code:\n",
        "Python\n",
        "\n",
        "    from flask import Flask\n",
        "\n",
        "    app = Flask(__name__)\n",
        "\n",
        "    @app.route('/')\n",
        "    def hello_world():\n",
        "        return 'Hello, World!'\n",
        "\n",
        "    if __name__ == '__main__':\n",
        "        app.run(debug=True)\n",
        "Run the application:\n",
        "Open a terminal or command prompt in the directory where you saved app.py.\n",
        "Run the app:\n",
        "Code\n",
        "\n",
        "    python app.py\n",
        "\n",
        "\n",
        "\n",
        "    6. What are HTTP methods used in RESTful APIs\n",
        "    -;In RESTful APIs, the most commonly used HTTP methods are GET, POST, PUT, DELETE, and PATCH. These methods map to CRUD operations (Create, Read, Update, and Delete) on resources.\n",
        "\n",
        "\n",
        "    7.FM What is the purpose of the @app.route() decorator in Flask4\n",
        "    \n",
        "    -;The @app.route() decorator in Flask is used for URL routing. It binds a specific URL path to a Python function, so when a user visits that URL in their browser, the associated function is executed, and its return value is sent back to the user as the response. It essentially maps URLs to their corresponding view functions within the Flask application. For example:\n",
        "Python\n",
        "\n",
        "from flask import Flask\n",
        "\n",
        "app = Flask(__name__)\n",
        "\n",
        "@app.route('/')\n",
        "def home():\n",
        "    return 'Hello, World!'\n",
        "\n",
        "if __name__ == '__main__':\n",
        "    app.run(debug=True)\n",
        "In this example, the @app.route('/') decorator associates the root URL (\"/\") with the home() function. When a user accesses the root URL of the application, the home() function is executed, and \"Hello, World!\" is displayed in the browser.\n",
        "\n",
        "\n",
        "\n",
        "\n",
        "\n",
        "\n",
        "\n",
        "\n",
        "\n",
        "8. M What is the difference between GET and POST HTTP methods4\n",
        "  -;The main difference between GET and POST HTTP methods lies in their intended use: GET is for retrieving data, while POST is for sending data to the server, often for creating or updating resources. GET requests send data in the URL, making it visible and cacheable, while POST requests send data in the request body, keeping it hidden and not typically cacheable.\n",
        "\n",
        "\n",
        "  9. How do you handle errors in Flask APIs\n",
        "   -; Error handling in Flask APIs can be implemented using a few approaches:\n",
        "HTTP Exceptions: Flask includes the abort() function to raise HTTP exceptions, which can be used to return standard HTTP error responses. For more control, you can directly raise HTTPException or its subclasses from the werkzeug.exceptions module.\n",
        "Python\n",
        "\n",
        "    from flask import Flask, abort\n",
        "    from werkzeug.exceptions import NotFound\n",
        "\n",
        "    app = Flask(__name__)\n",
        "\n",
        "    @app.route(\"/item/<int:item_id>\")\n",
        "    def get_item(item_id):\n",
        "        if item_id > 100:\n",
        "            abort(NotFound(\"Item not found\"))\n",
        "        return {\"id\": item_id, \"name\": f\"Item {item_id}\"}\n",
        "\n",
        "    if __name__ == \"__main__\":\n",
        "        app.run(debug=True)\n",
        "Custom Error Handlers: The @app.errorhandler decorator allows defining custom functions to handle specific exceptions or HTTP error codes. This is useful for formatting error responses in a consistent manner.\n",
        "Python\n",
        "\n",
        "    from flask import Flask, jsonify\n",
        "    from werkzeug.exceptions import NotFound, HTTPException\n",
        "\n",
        "    app = Flask(__name__)\n",
        "\n",
        "    class CustomError(Exception):\n",
        "        def __init__(self, message, status_code):\n",
        "            self.message = message\n",
        "            self.status_code = status_code\n",
        "\n",
        "    @app.errorhandler(NotFound)\n",
        "    def handle_not_found(error):\n",
        "        return jsonify({\"error\": \"Not Found\", \"message\": error.description}), 404\n",
        "\n",
        "    @app.errorhandler(CustomError)\n",
        "    def handle_custom_error(error):\n",
        "      return jsonify({\"error\": \"Custom Error\", \"message\": error.message}), error.status_code\n",
        "\n",
        "    @app.route(\"/item/<int:item_id>\")\n",
        "    def get_item(item_id):\n",
        "        if item_id > 100:\n",
        "            raise CustomError(\"Item ID too high\", 400)\n",
        "        return jsonify({\"id\": item_id, \"name\": f\"Item {item_id}\"})\n",
        "\n",
        "    if __name__ == \"__main__\":\n",
        "        app.run(debug=True)\n",
        "Blueprints for Modular Error Handling: When using blueprints, error handlers can be registered directly within the blueprint, keeping error handling logic localized to specific parts of the application.\n",
        "Python\n",
        "\n",
        "    from flask import Blueprint, jsonify\n",
        "\n",
        "    bp = Blueprint('my_blueprint', __name__)\n",
        "\n",
        "    class CustomError(Exception):\n",
        "        def __init__(self, message, status_code):\n",
        "            self.message = message\n",
        "            self.status_code = status_code\n",
        "\n",
        "    @bp.errorhandler(CustomError)\n",
        "    def handle_custom_error(error):\n",
        "        return jsonify({\"error\": \"Blueprint Error\", \"message\": error.message}), error.status_code\n",
        "Flask-RESTful Error Handling: When using Flask-RESTful, error handling can be done using abort or by defining custom exception handlers within the API resource. Flask-RESTful automatically formats errors as JSON.\n",
        "Python\n",
        "\n",
        "    from flask import Flask\n",
        "    from flask_restful import Api, Resource, abort\n",
        "\n",
        "    app = Flask(__name__)\n",
        "    api = Api(app)\n",
        "\n",
        "    class MyResource(Resource):\n",
        "        def get(self, item_id):\n",
        "            if item_id > 100:\n",
        "                abort(404, message=\"Item not found\")\n",
        "            return {\"id\": item_id, \"name\": f\"Item {item_id}\"}\n",
        "\n",
        "    api.add_resource(MyResource, \"/item/<int:item_id>\")\n",
        "\n",
        "    if __name__ == \"__main__\":\n",
        "        app.run(debug=True)\n",
        "Debugging: Flask's debug mode provides detailed error information in the browser, which is helpful during development. It can be enabled by setting FLASK_ENV to development.\n",
        "Code\n",
        "\n",
        "    export FLASK_ENV=development\n",
        "    flask run\n",
        "\n",
        "\n",
        "\n",
        "\n",
        "\n",
        "\n",
        "\n",
        "\n",
        "    10. How do you connect Flask to a SQL database\n",
        "      -;Step 1: Create the getdb function. We are going to write the connection code once in the getdb function and return the database connection anytime it's needed in our routes. ...\n",
        "Step 2: Close the database connection after each request. ...\n",
        "Step 3: Use the getdb function in routes.\n",
        "\n",
        "\n",
        "\n",
        "11.M What is the role of Flask-SQLAlchemy4\n",
        "  -;\n",
        "Flask-SQLAlchemy is a Flask extension that makes using SQLAlchemy with Flask easier, providing you tools and methods to interact with your database in your Flask applications through SQLAlchemy. In this tutorial, you'll build a small student management system that demonstrates how to use the Flask-SQLAlchemy extension.\n",
        "\n",
        "\n",
        "\n",
        "\n",
        "\n",
        "\n",
        "12. What are Flask blueprints, and how are they useful\n",
        " -; Each Flask Blueprint is an object that works very similarly to a Flask application. They both can have resources, such as static files, templates, and views that are associated with routes. However, a Flask Blueprint is not actually an application. It needs to be registered in an application before you can run it.\n",
        "\n",
        "\n",
        "\n",
        "\n",
        "\n",
        "\n",
        "\n",
        " 13.  What is the purpose of Flask's request object\n",
        " -; The Flask request object serves as a central container for all incoming data associated with a client's request to the server. When a Flask application receives a request, it generates a request object, making it accessible within the route handler function. This object encapsulates various components of the incoming request, including:\n",
        "Form data: Data submitted through HTML forms, accessible via request.form.\n",
        "Query parameters: Data appended to the URL, retrievable using request.args.\n",
        "Request body: Raw data sent in the request body, obtainable with request.data.\n",
        "Headers: HTTP headers providing metadata about the request, accessible through request.headers.\n",
        "Cookies: Cookies sent by the client, available via request.cookies.\n",
        "Files: Uploaded files, accessible via request.files.\n",
        "Method: The HTTP method used for the request (e.g., GET, POST), obtained using request.method.\n",
        "URL information: Details about the requested URL, including path and host, accessible through attributes like request.path and request.host.\n",
        "IP address: The client's IP address, available via request.remote_addr.\n",
        "The request object allows the application to inspect and process the incoming data, enabling it to respond appropriately based on the client's request. It facilitates tasks such as:\n",
        "Retrieving user input from forms or URLs.\n",
        "Validating data before processing it.\n",
        "Handling file uploads.\n",
        "Implementing authentication and authorization mechanisms.\n",
        "Customizing responses based on request headers or cookies.\n",
        "Logging or tracking request information.\n",
        "By providing a structured and comprehensive representation of the incoming request, the Flask request object simplifies the development of web applications that interact with client requests effectively.\n",
        "\n",
        "\n",
        "\n",
        "\n",
        "\n",
        "\n",
        "\n",
        "\n",
        "\n",
        "\n",
        "\n",
        "14. How do you create a RESTful API endpoint using Flask\n",
        " =; Code\n",
        "\n",
        "    pip install Flask\n",
        "Create a Flask app.\n",
        "Python\n",
        "\n",
        "    from flask import Flask, jsonify, request\n",
        "\n",
        "    app = Flask(__name__)\n",
        "Define the endpoint using a route decorator:\n",
        "Python\n",
        "\n",
        "    @app.route('/resource', methods=['GET', 'POST', 'PUT', 'DELETE'])\n",
        "    def manage_resource():\n",
        "        if request.method == 'GET':\n",
        "            # Handle GET requests (retrieve data)\n",
        "            return jsonify({'message': 'GET request'}), 200\n",
        "        elif request.method == 'POST':\n",
        "            # Handle POST requests (create data)\n",
        "            data = request.get_json()\n",
        "            # Process the data and save it\n",
        "            return jsonify({'message': 'POST request', 'data': data}), 201\n",
        "        elif request.method == 'PUT':\n",
        "             # Handle PUT requests (update data)\n",
        "            data = request.get_json()\n",
        "            #Process the data and update it\n",
        "            return jsonify({'message': 'PUT request', 'data': data}), 200\n",
        "        elif request.method == 'DELETE':\n",
        "            # Handle DELETE requests (delete data)\n",
        "            return jsonify({'message': 'DELETE request'}), 200\n",
        "run the flask app.\n",
        "Python\n",
        "\n",
        "    if __name__ == '__main__':\n",
        "        app.run(debug=True)\n",
        "This example defines a single endpoint /resource that handles different HTTP methods:\n",
        "GET: Retrieves data.\n",
        "POST: Creates new data.\n",
        "PUT: Updates existing data.\n",
        "DELETE: Deletes data.\n",
        "The request object is used to access data sent by the client, and jsonify is used to return data in JSON format. The status code is also returned to indicate the result of the request.\n",
        "\n",
        "\n",
        "\n",
        "\n",
        "\n",
        "15. What is the purpose of Flask's jsonify() function\n",
        "-; The jsonify() function is useful in Flask apps because it automatically sets the correct response headers and content type for JSON responses, and allows you to easily return JSON-formatted data from your route handlers. This makes it easier and more convenient to create APIs that return JSON data.\n",
        "\n",
        "\n",
        "\n",
        "16.Explain Flask’s url_for() function\n",
        "-; The url_for() function in Flask dynamically generates URLs for specific functions, which helps avoid hardcoding URLs in the application. It takes the name of the view function as its first argument and any number of keyword arguments, each corresponding to the variable part of the URL rule.\n",
        "For example, if a route is defined as @app.route('/users/<username>'), then url_for('user_profile', username='john') would generate the URL /users/john. This is particularly useful because if the URL structure changes, only the route definition needs to be updated, and all calls to url_for() will automatically reflect the change. This prevents the need to manually update URLs throughout the application.\n",
        "\n",
        "\n",
        "\n",
        "\n",
        "17. How does Flask handle static files (CSS, JavaScript, etc.)\n",
        "-; Flask automatically handles static files like CSS, JavaScript, and images by serving them from a designated folder named \"static\" within the application's root directory. To reference these files in HTML templates, the url_for() function is used, which generates the correct paths to the static files.\n",
        "Python\n",
        "\n",
        "from flask import Flask, render_template, url_for\n",
        "\n",
        "app = Flask(__name__)\n",
        "\n",
        "@app.route('/')\n",
        "def index():\n",
        "    return render_template('index.html')\n",
        "\n",
        "if __name__ == '__main__':\n",
        "    app.run(debug=True)\n",
        "\n",
        "\n",
        "\n",
        "\n",
        "\n",
        "\n",
        "18. What is an API specification, and how does it help in building a Flask API\n",
        "-; An API, or Application Programming Interface, is a set of rules and specifications that allows different software applications to communicate and exchange data. It acts as a bridge, enabling applications to interact with each other without needing to know the internal details of each other's code. Think of it as a standardized way for two applications to \"talk\" to each other.\n",
        "This part of the documentation covers all the interfaces of Flask. For parts where Flask depends on external libraries, we document the most important right here and provide links to the canonical documentation.\n",
        "\n",
        "\n",
        "\n",
        "\n",
        "\n",
        "\n",
        "\n",
        "\n",
        "19. What are HTTP status codes, and why are they important in a Flask API\n",
        "  -; HTTP status codes are three-digit codes that indicate the outcome of an API request. They are included in the API's response to the API client, and they include important information that helps the client know how to proceed\n",
        "  In conclusion, HTTP status codes play a crucial role in REST-based APIs. They provide a standard way for the server to communicate the outcome of a request to the client and handle errors in a consistent manner\n",
        "\n",
        "\n",
        "\n",
        "\n",
        "\n",
        "\n",
        "\n",
        "\n",
        "  20. How do you handle POST requests in Flask\n",
        "    -;To handle POST requests in Flask, the methods argument in the route decorator is used to specify that the route should accept POST requests. The data sent in the POST request can be accessed using the request object from the Flask library. Here's how it can be done:\n",
        "Python\n",
        "\n",
        "from flask import Flask, request, jsonify\n",
        "\n",
        "app = Flask(__name__)\n",
        "\n",
        "@app.route('/example', methods=['POST'])\n",
        "def handle_post():\n",
        "    if request.method == 'POST':\n",
        "        data = request.get_json()  # Get JSON data from the request body\n",
        "        \n",
        "        # Process the data (e.g., save to a database, perform calculations)\n",
        "        result = {'message': 'Data received successfully', 'data': data}\n",
        "        \n",
        "        return jsonify(result), 201  # Return a JSON response with status code 201 (Created)\n",
        "\n",
        "if __name__ == '__main__':\n",
        "    app.run(debug=True)\n",
        "In this example, the /example route is set up to handle POST requests. When a POST request is sent to this route, the handle_post function is executed. The function retrieves the JSON data from the request body using request.get_json(), processes it, and returns a JSON response with a success message and the received data. The status code 201 is used to indicate that a new resource has been created.\n",
        "\n",
        "\n",
        "\n",
        "\n",
        "21. How would you secure a Flask API\n",
        "  -;To protect your APIs built with Flask, it is essential to address several key security aspects: Use HTTPS: Employing HTTPS encrypts data in transit, preventing unauthorized access and mitigating the risk of man-in-the-middle attacks.\n",
        "\n",
        "\n",
        "\n",
        "  22. What is the significance of the Flask-RESTful extension\n",
        "  -; The Flask RESTful extension significantly simplifies REST API development within Flask applications. It provides a more structured and efficient way to define API endpoints, handle HTTP methods, and manage resources compared to using Flask directly. Flask RESTful is particularly helpful for building RESTful APIs, offering features like automatic request parsing, response formatting, and resource-oriented design.\n",
        "\n",
        "\n",
        "\n",
        "\n",
        "\n",
        "\n",
        "  23. What is the role of Flask’s session object?\n",
        "    -;In Flask, the session object allows you to store user-specific data across multiple HTTP requests. It acts as a way to persist data between different interactions with a web application, making it possible to remember information like login status, preferences, or other user-related data. Essentially, it enables Flask to maintain a state of the user's interaction with the application.\n",
        "\n",
        "\n",
        "\n",
        "\n",
        "\n",
        "\n",
        "\n",
        "\n",
        "\n",
        "    \n",
        "\n",
        "\n",
        "\n"
      ],
      "metadata": {
        "id": "GxlQQz2uC_LX"
      }
    },
    {
      "cell_type": "markdown",
      "source": [
        "\n",
        "\n",
        "\n",
        "\n",
        "# practical"
      ],
      "metadata": {
        "id": "zFCy-eRzC9Z7"
      }
    },
    {
      "cell_type": "markdown",
      "source": [
        "1.  How do you create a basic Flask application"
      ],
      "metadata": {
        "id": "k7KSnb2ksWp3"
      }
    },
    {
      "cell_type": "code",
      "source": [
        "from flask import Flask\n",
        "\n",
        "app = Flask(__name__)\n",
        "\n",
        "@app.route('/')\n",
        "def home():\n",
        "    return \"Hello, Flask!\"\n",
        "\n",
        "if __name__ == '__main__':\n",
        "    app.run(debug=True)\n"
      ],
      "metadata": {
        "colab": {
          "base_uri": "https://localhost:8080/"
        },
        "id": "DDkd9bmdsnyd",
        "outputId": "051b425f-38df-4640-c83a-a772f5744d22"
      },
      "execution_count": null,
      "outputs": [
        {
          "output_type": "stream",
          "name": "stdout",
          "text": [
            " * Serving Flask app '__main__'\n",
            " * Debug mode: on\n"
          ]
        },
        {
          "output_type": "stream",
          "name": "stderr",
          "text": [
            "INFO:werkzeug:\u001b[31m\u001b[1mWARNING: This is a development server. Do not use it in a production deployment. Use a production WSGI server instead.\u001b[0m\n",
            " * Running on http://127.0.0.1:5000\n",
            "INFO:werkzeug:\u001b[33mPress CTRL+C to quit\u001b[0m\n",
            "INFO:werkzeug: * Restarting with stat\n"
          ]
        }
      ]
    },
    {
      "cell_type": "markdown",
      "source": [
        "\n",
        "\n",
        "\n",
        "\n",
        "\n",
        "\n",
        "2.  How do you serve static files like images or CSS in Flask"
      ],
      "metadata": {
        "id": "KYYPiXx_s0W1"
      }
    },
    {
      "cell_type": "code",
      "source": [
        "from flask import Flask, send_from_directory\n",
        "\n",
        "app = Flask(__name__)\n",
        "\n",
        "@app.route('/static/<path:filename>')\n",
        "def serve_static(filename):\n",
        "    return send_from_directory('static', filename)\n",
        "\n",
        "if __name__ == '__main__':\n",
        "    app.run(debug=True)\n"
      ],
      "metadata": {
        "id": "eVVWKliEs7ae"
      },
      "execution_count": null,
      "outputs": []
    },
    {
      "cell_type": "markdown",
      "source": [
        "\n",
        "\n",
        "3.How do you define different routes with different HTTP methods in Flask"
      ],
      "metadata": {
        "id": "KxXqYwgXtKZh"
      }
    },
    {
      "cell_type": "code",
      "source": [
        "from flask import Flask, request\n",
        "\n",
        "app = Flask(__name__)\n",
        "\n",
        "@app.route('/example', methods=['GET'])\n",
        "def get_example():\n",
        "    return \"This is a GET request\"\n",
        "\n",
        "@app.route('/example', methods=['POST'])\n",
        "def post_example():\n",
        "    data = request.json\n",
        "    return f\"This is a POST request with data: {data}\"\n",
        "\n",
        "@app.route('/example', methods=['PUT'])\n",
        "def put_example():\n",
        "    data = request.json\n",
        "    return f\"This is a PUT request with data: {data}\"\n",
        "\n",
        "@app.route('/example', methods=['DELETE'])\n",
        "def delete_example():\n",
        "    return \"This is a DELETE request\"\n",
        "\n",
        "if __name__ == '__main__':\n",
        "    app.run(debug=True)\n"
      ],
      "metadata": {
        "id": "ZrPdXAFmtQab"
      },
      "execution_count": null,
      "outputs": []
    },
    {
      "cell_type": "markdown",
      "source": [
        "\n",
        "\n",
        "\n",
        "\n",
        "\n",
        "\n",
        "\n",
        "4.How do you render HTML templates in Flask"
      ],
      "metadata": {
        "id": "GfLhGIG_tafL"
      }
    },
    {
      "cell_type": "code",
      "source": [
        "from flask import Flask, render_template\n",
        "\n",
        "app = Flask(__name__)\n",
        "\n",
        "@app.route('/')\n",
        "def home():\n",
        "    return render_template('index.html')\n",
        "\n",
        "if __name__ == '__main__':\n",
        "    app.run(debug=True)\n"
      ],
      "metadata": {
        "id": "Mm5XjIa6tlnm"
      },
      "execution_count": null,
      "outputs": []
    },
    {
      "cell_type": "markdown",
      "source": [
        "5. How can you generate URLs for routes in Flask using url_for"
      ],
      "metadata": {
        "id": "qmMQPkqXtvxi"
      }
    },
    {
      "cell_type": "code",
      "source": [
        "from flask import Flask, url_for\n",
        "\n",
        "app = Flask(__name__)\n",
        "\n",
        "@app.route('/')\n",
        "def home():\n",
        "    return 'Home Page'\n",
        "\n",
        "@app.route('/about')\n",
        "def about():\n",
        "    return 'About Page'\n",
        "\n",
        "with app.test_request_context():\n",
        "    print(url_for('home'))  # Output: /\n",
        "    print(url_for('about'))  # Output: /about\n"
      ],
      "metadata": {
        "id": "VaY7aht_t3we"
      },
      "execution_count": null,
      "outputs": []
    },
    {
      "cell_type": "markdown",
      "source": [
        " 6. How do you handle forms in Flask"
      ],
      "metadata": {
        "id": "EkUzxzzfuEF1"
      }
    },
    {
      "cell_type": "code",
      "source": [
        "from flask import Flask, render_template, request, redirect, url_for\n",
        "from flask_wtf import FlaskForm\n",
        "from wtforms import StringField, SubmitField\n",
        "from wtforms.validators import DataRequired\n",
        "\n",
        "app = Flask(__name__)\n",
        "app.config['SECRET_KEY'] = 'your_secret_key'\n",
        "\n",
        "class MyForm(FlaskForm):\n",
        "    name = StringField('Name', validators=[DataRequired()])\n",
        "    submit = SubmitField('Submit')\n",
        "\n",
        "@app.route('/', methods=['GET', 'POST'])\n",
        "def index():\n",
        "    form = MyForm()\n",
        "    if form.validate_on_submit():\n",
        "        name = form.name.data\n",
        "        return redirect(url_for('success', name=name))\n",
        "    return render_template('index.html', form=form)\n",
        "\n",
        "@app.route('/success/<name>')\n",
        "def success(name):\n",
        "    return f'Form submitted successfully! Hello, {name}!'\n",
        "\n",
        "if __name__ == '__main__':\n",
        "    app.run(debug=True)\n"
      ],
      "metadata": {
        "id": "yVWm2SZUuI5O"
      },
      "execution_count": null,
      "outputs": []
    },
    {
      "cell_type": "markdown",
      "source": [],
      "metadata": {
        "id": "CouBauCHubOP"
      }
    },
    {
      "cell_type": "markdown",
      "source": [
        "7.  How can you validate form data in Flask4"
      ],
      "metadata": {
        "id": "QS82OkjyucVQ"
      }
    },
    {
      "cell_type": "code",
      "source": [
        "from flask import Flask, request, render_template, redirect, url_for, flash\n",
        "from flask_wtf import FlaskForm\n",
        "from wtforms import StringField, PasswordField, SubmitField\n",
        "from wtforms.validators import DataRequired, Length, Email\n",
        "\n",
        "app = Flask(__name__)\n",
        "app.secret_key = 'your_secret_key'\n",
        "\n",
        "class LoginForm(FlaskForm):\n",
        "    email = StringField('Email', validators=[DataRequired(), Email()])\n",
        "    password = PasswordField('Password', validators=[DataRequired(), Length(min=6, max=35)])\n",
        "    submit = SubmitField('Login')\n",
        "\n",
        "@app.route('/login', methods=['GET', 'POST'])\n",
        "def login():\n",
        "    form = LoginForm()\n",
        "    if form.validate_on_submit():\n",
        "        # Process the validated data\n",
        "        flash('Login successful!', 'success')\n",
        "        return redirect(url_for('home'))\n",
        "    return render_template('login.html', form=form)\n",
        "\n",
        "@app.route('/home')\n",
        "def home():\n",
        "    return 'Welcome to the Home Page!'\n",
        "\n",
        "if __name__ == '__main__':\n",
        "    app.run(debug=True)\n"
      ],
      "metadata": {
        "id": "qRth950Eu5FR"
      },
      "execution_count": null,
      "outputs": []
    },
    {
      "cell_type": "markdown",
      "source": [
        "8. How do you manage sessions in Flask"
      ],
      "metadata": {
        "id": "zYoxTaZJvB2k"
      }
    },
    {
      "cell_type": "code",
      "source": [
        "from flask import Flask, session\n",
        "\n",
        "app = Flask(__name__)\n",
        "app.secret_key = 'your_secret_key'\n",
        "\n",
        "@app.route('/set_session/<username>')\n",
        "def set_session(username):\n",
        "    session['username'] = username\n",
        "    return f'Session set for {username}'\n",
        "\n",
        "@app.route('/get_session')\n",
        "def get_session():\n",
        "    username = session.get('username', 'Not set')\n",
        "    return f'Current session username: {username}'\n",
        "\n",
        "@app.route('/clear_session')\n",
        "def clear_session():\n",
        "    session.pop('username', None)\n",
        "    return 'Session cleared'\n",
        "\n",
        "if __name__ == '__main__':\n",
        "    app.run(debug=True)\n"
      ],
      "metadata": {
        "id": "vl3vz37avK5U"
      },
      "execution_count": null,
      "outputs": []
    },
    {
      "cell_type": "markdown",
      "source": [
        "9.  How do you redirect to a different route in Flask"
      ],
      "metadata": {
        "id": "8g1bF5XcvcxK"
      }
    },
    {
      "cell_type": "code",
      "source": [
        "from flask import Flask, redirect, url_for\n",
        "\n",
        "app = Flask(__name__)\n",
        "\n",
        "@app.route('/')\n",
        "def home():\n",
        "    return redirect(url_for('new_route'))\n",
        "\n",
        "@app.route('/new_route')\n",
        "def new_route():\n",
        "    return \"You have been redirected to a new route!\"\n",
        "\n",
        "if __name__ == '__main__':\n",
        "    app.run(debug=True)\n"
      ],
      "metadata": {
        "id": "wj9_8ehcvrmM"
      },
      "execution_count": null,
      "outputs": []
    },
    {
      "cell_type": "markdown",
      "source": [
        "10.  How do you handle errors in Flask (e.g., 404)4"
      ],
      "metadata": {
        "id": "slO6medjv3a5"
      }
    },
    {
      "cell_type": "code",
      "source": [
        "from flask import Flask, jsonify\n",
        "\n",
        "app = Flask(__name__)\n",
        "\n",
        "@app.errorhandler(404)\n",
        "def not_found(error):\n",
        "    return jsonify({\"error\": \"Not found\"}), 404\n",
        "\n",
        "if __name__ == '__main__':\n",
        "    app.run(debug=True)\n"
      ],
      "metadata": {
        "id": "FUGPq8rxv2zW"
      },
      "execution_count": null,
      "outputs": []
    },
    {
      "cell_type": "markdown",
      "source": [
        "11.How do you structure a Flask app using Blueprints"
      ],
      "metadata": {
        "id": "Jro8vkh7wOWp"
      }
    },
    {
      "cell_type": "code",
      "source": [
        "# Flask App Structure with Blueprints\n",
        "\n",
        "from flask import Flask, Blueprint, render_template\n",
        "\n",
        "# Create a Blueprint\n",
        "main = Blueprint('main', __name__)\n",
        "\n",
        "@main.route('/')\n",
        "def home():\n",
        "    return render_template('home.html')\n",
        "\n",
        "@main.route('/about')\n",
        "def about():\n",
        "    return render_template('about.html')\n",
        "\n",
        "# Create the Flask app\n",
        "app = Flask(__name__)\n",
        "\n",
        "# Register the Blueprint\n",
        "app.register_blueprint(main)\n",
        "\n",
        "if __name__ == '__main__':\n",
        "    app.run(debug=True)\n"
      ],
      "metadata": {
        "id": "p2y-XU6ZwWge"
      },
      "execution_count": null,
      "outputs": []
    },
    {
      "cell_type": "markdown",
      "source": [
        "12. How do you define a custom Jinja filter in Flask4"
      ],
      "metadata": {
        "id": "t6X4LPfyxPRB"
      }
    },
    {
      "cell_type": "code",
      "source": [
        "# Custom Jinja Filter in Flask\n",
        "\n",
        "from flask import Flask, render_template\n",
        "\n",
        "app = Flask(__name__)\n",
        "\n",
        "# Define a custom filter\n",
        "@app.template_filter('reverse')\n",
        "def reverse_filter(s):\n",
        "    return s[::-1]\n",
        "\n",
        "@app.route('/')\n",
        "def index():\n",
        "    return render_template('index.html', name='Flask')\n",
        "\n",
        "if __name__ == '__main__':\n",
        "    app.run(debug=True)\n"
      ],
      "metadata": {
        "id": "2A9F9MdBxOuS"
      },
      "execution_count": null,
      "outputs": []
    },
    {
      "cell_type": "markdown",
      "source": [
        "13.M How can you redirect with query parameters in Flask"
      ],
      "metadata": {
        "id": "ka0CsT6Sxc-N"
      }
    },
    {
      "cell_type": "code",
      "source": [
        "# Redirecting with Query Parameters in Flask\n",
        "\n",
        "from flask import Flask, redirect, request, url_for\n",
        "\n",
        "app = Flask(__name__)\n",
        "\n",
        "@app.route('/redirect_example')\n",
        "def redirect_example():\n",
        "    # Redirecting to another route with query parameters\n",
        "    return redirect(url_for('target_route', param1='value1', param2='value2'))\n",
        "\n",
        "@app.route('/target_route')\n",
        "def target_route():\n",
        "    param1 = request.args.get('param1')\n",
        "    param2 = request.args.get('param2')\n",
        "    return f'Received parameters: param1={param1}, param2={param2}'\n",
        "\n",
        "if __name__ == '__main__':\n",
        "    app.run(debug=True)\n"
      ],
      "metadata": {
        "id": "a2UY-ah3xnqH"
      },
      "execution_count": null,
      "outputs": []
    },
    {
      "cell_type": "markdown",
      "source": [
        "14.M How do you return JSON responses in Flask"
      ],
      "metadata": {
        "id": "qi0eqyKixzPI"
      }
    },
    {
      "cell_type": "code",
      "source": [
        "# How to Return JSON Responses in Flask\n",
        "\n",
        "from flask import Flask, jsonify\n",
        "\n",
        "app = Flask(__name__)\n",
        "\n",
        "@app.route('/api/data', methods=['GET'])\n",
        "def get_data():\n",
        "    data = {\n",
        "        'name': 'John Doe',\n",
        "        'age': 30,\n",
        "        'city': 'New York'\n",
        "    }\n",
        "    return jsonify(data)\n",
        "\n",
        "if __name__ == '__main__':\n",
        "    app.run(debug=True)\n"
      ],
      "metadata": {
        "id": "QlrgnOUrx4YG"
      },
      "execution_count": null,
      "outputs": []
    },
    {
      "cell_type": "markdown",
      "source": [],
      "metadata": {
        "id": "IhkmkCDYx3BM"
      }
    },
    {
      "cell_type": "markdown",
      "source": [
        "15. How do you capture URL parameters in Flask"
      ],
      "metadata": {
        "id": "Y5ESOzEYyBdB"
      }
    },
    {
      "cell_type": "code",
      "source": [
        "from flask import Flask, request\n",
        "\n",
        "app = Flask(__name__)\n",
        "\n",
        "@app.route('/user/<username>')\n",
        "def show_user_profile(username):\n",
        "    return f'User: {username}'\n",
        "\n",
        "@app.route('/post/<int:post_id>')\n",
        "def show_post(post_id):\n",
        "    return f'Post ID: {post_id}'\n",
        "\n",
        "@app.route('/search')\n",
        "def search():\n",
        "    query = request.args.get('query')\n",
        "    return f'Search results for: {query}'\n",
        "\n",
        "if __name__ == '__main__':\n",
        "    app.run(debug=True)\n"
      ],
      "metadata": {
        "id": "ZG2VaiGAyHS9"
      },
      "execution_count": null,
      "outputs": []
    }
  ]
}